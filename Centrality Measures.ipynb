{
 "cells": [
  {
   "cell_type": "markdown",
   "metadata": {},
   "source": [
    "# Centrality Measure"
   ]
  },
  {
   "cell_type": "markdown",
   "metadata": {},
   "source": [
    " Generate a network plot of the following adjacency matrix\n",
    "\\begin{align}\n",
    "A = \n",
    "\\begin{bmatrix}\n",
    "0 & 1 & 0 & 1 & 0 & 1 \\\\\n",
    "1 & 0 & 1 & 0 & 0 & 1 \\\\\n",
    "0 & 1 & 0 & 0 & 1 & 1 \\\\\n",
    "1 & 0 & 0 & 0 & 0 & 0 \\\\\n",
    "0 & 0 & 1 & 0 & 0 & 1 \\\\\n",
    "1 & 1 & 1 & 0 & 1 & 0 \n",
    "\\end{bmatrix}\n",
    "\\end{align}"
   ]
  },
  {
   "cell_type": "code",
   "execution_count": 1,
   "metadata": {},
   "outputs": [],
   "source": [
    "# importing the libraries\n",
    "\n",
    "import pandas as pd\n",
    "import numpy as np\n",
    "import networkx as nx\n",
    "import matplotlib.pyplot as plt\n",
    "import numpy as np\n",
    "from numpy import genfromtxt"
   ]
  },
  {
   "cell_type": "code",
   "execution_count": 2,
   "metadata": {},
   "outputs": [
    {
     "data": {
      "image/png": "[encoded data removed]",
      "text/plain": [
       "<Figure size 432x288 with 1 Axes>"
      ]
     },
     "metadata": {},
     "output_type": "display_data"
    }
   ],
   "source": [
    "G = nx.Graph()  # Create an empty graph with no nodes or edges\n",
    "\n",
    "# thus far we have created an undirected, unweighted graph.\n",
    "# We can retreive the number of edges and number of nodes using:\n",
    "     \n",
    "A = [[0, 1, 0, 1, 0, 1],\n",
    "     [1, 0, 1, 0, 0, 1],\n",
    "     [0, 1, 0, 0, 1, 1],\n",
    "     [1, 0, 0, 0, 0, 0],\n",
    "     [0, 0, 1, 0, 0, 1],\n",
    "     [1, 1, 1, 0, 1, 0]]\n",
    "   \n",
    "G = nx.from_numpy_matrix(np.array(A)) \n",
    "nx.draw(G, with_labels=True,font_weight='bold')\n",
    "\n",
    "## This graph below shows the Network Plot:"
   ]
  },
  {
   "cell_type": "markdown",
   "metadata": {},
   "source": [
    "Compute the four centrality measures applied in the above matrix\n",
    "\n",
    "    degree centrality\n",
    "    closeness centrality\n",
    "    betweenness centrality\n",
    "    eigenvector centrality\n",
    "\n"
   ]
  },
  {
   "cell_type": "code",
   "execution_count": 3,
   "metadata": {},
   "outputs": [
    {
     "name": "stdout",
     "output_type": "stream",
     "text": [
      "degree centrality:  {0: 0.6000000000000001, 1: 0.6000000000000001, 2: 0.6000000000000001, 3: 0.2, 4: 0.4, 5: 0.8}\n",
      "betweenness  centrality:  {0: 0.4, 1: 0.1, 2: 0.05, 3: 0.0, 4: 0.0, 5: 0.35000000000000003}\n",
      "closeness  centrality:  {0: 0.7142857142857143, 1: 0.7142857142857143, 2: 0.625, 3: 0.45454545454545453, 4: 0.5555555555555556, 5: 0.8333333333333334}\n",
      "eigenvector  centrality:  {0: 0.3834327635729094, 1: 0.46493880333267035, 2: 0.45310115951559804, 3: 0.12862901683739722, 4: 0.3363097865225342, 5: 0.5494186634404209}\n"
     ]
    }
   ],
   "source": [
    "# Degree Cnetrality\n",
    "deg_cent = nx.degree_centrality(G)\n",
    "print \"degree centrality: \", deg_cent\n",
    "\n",
    "\n",
    "# Closeness Centrality\n",
    "betw_cent = nx.betweenness_centrality(G)\n",
    "print \"betweenness  centrality: \", betw_cent\n",
    "\n",
    "\n",
    "#Betweenness Centrality\n",
    "close_cent = nx.closeness_centrality(G)\n",
    "print \"closeness  centrality: \", close_cent\n",
    "\n",
    "\n",
    "#Eigenvector Centrality\n",
    "eig_cent = nx.eigenvector_centrality(G)\n",
    "print \"eigenvector  centrality: \", eig_cent\n"
   ]
  },
  {
   "cell_type": "markdown",
   "metadata": {},
   "source": [
    "- The Degree Centrality is maximum for Node5 and minimum for Node3.\n",
    "- The Betweenness Centrality is maximum for Node0 and minimum for Node3. \n",
    "- The Closeness Centrality is maximum for Node5 and minimum for Node3.\n",
    "- The EigenVector Centrality is maximum for Node5 and minimum for Node3.\n",
    "\n",
    "#### We can conclude that the Centrality is good for the Node5 which has the maximum edges with other Nodes.\n",
    "#### The Node3 has the minumum Edges with the other nodes. "
   ]
  }
 ],
 "metadata": {
  "kernelspec": {
   "display_name": "Python 2",
   "language": "python",
   "name": "python2"
  },
  "language_info": {
   "codemirror_mode": {
    "name": "ipython",
    "version": 2
   },
   "file_extension": ".py",
   "mimetype": "text/x-python",
   "name": "python",
   "nbconvert_exporter": "python",
   "pygments_lexer": "ipython2",
   "version": "2.7.16"
  }
 },
 "nbformat": 4,
 "nbformat_minor": 2
}
